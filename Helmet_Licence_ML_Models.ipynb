{
 "cells": [
  {
   "cell_type": "markdown",
   "id": "bc08f203",
   "metadata": {},
   "source": [
    "# HW 5 "
   ]
  },
  {
   "cell_type": "markdown",
   "id": "b16d23a8",
   "metadata": {},
   "source": [
    "PART IV - Country of the License Plate"
   ]
  },
  {
   "cell_type": "markdown",
   "id": "3cd1b852",
   "metadata": {},
   "source": [
    "Import the libraries"
   ]
  },
  {
   "cell_type": "code",
   "execution_count": 132,
   "id": "2199a167",
   "metadata": {},
   "outputs": [],
   "source": [
    "import pandas as pd\n",
    "import numpy as np\n",
    "from matplotlib import pyplot as plt\n",
    "import seaborn as sns\n",
    "import os\n",
    "import glob\n",
    "from sklearn.model_selection import train_test_split"
   ]
  },
  {
   "cell_type": "code",
   "execution_count": 61,
   "id": "83df7a0e",
   "metadata": {},
   "outputs": [],
   "source": [
    "import pandas as pd\n",
    "import numpy as np\n",
    "\n",
    "from matplotlib import pyplot as plt\n",
    "import seaborn as sns\n",
    "import cv2\n",
    "import os\n",
    "import glob\n",
    "\n",
    "from random import sample, randint\n",
    "\n",
    "from sklearn.model_selection import train_test_split\n"
   ]
  },
  {
   "cell_type": "markdown",
   "id": "1d5434d2",
   "metadata": {},
   "source": [
    "Load the data into  a dataframe"
   ]
  },
  {
   "cell_type": "code",
   "execution_count": 62,
   "id": "5e9a1fd3",
   "metadata": {},
   "outputs": [],
   "source": [
    "data = pd.read_csv(r'C:\\Users\\prave\\Desktop\\docs\\FA\\New folder\\New folder\\DMT\\Assignment 05 - Neural Networks and Evaluating Results\\New folder\\first_edit.csv')"
   ]
  },
  {
   "cell_type": "code",
   "execution_count": 63,
   "id": "926e3469",
   "metadata": {},
   "outputs": [
    {
     "data": {
      "text/html": [
       "<div>\n",
       "<style scoped>\n",
       "    .dataframe tbody tr th:only-of-type {\n",
       "        vertical-align: middle;\n",
       "    }\n",
       "\n",
       "    .dataframe tbody tr th {\n",
       "        vertical-align: top;\n",
       "    }\n",
       "\n",
       "    .dataframe thead th {\n",
       "        text-align: right;\n",
       "    }\n",
       "</style>\n",
       "<table border=\"1\" class=\"dataframe\">\n",
       "  <thead>\n",
       "    <tr style=\"text-align: right;\">\n",
       "      <th></th>\n",
       "      <th>FileName</th>\n",
       "      <th>US Car?</th>\n",
       "    </tr>\n",
       "  </thead>\n",
       "  <tbody>\n",
       "    <tr>\n",
       "      <th>0</th>\n",
       "      <td>Cars0.png</td>\n",
       "      <td>N</td>\n",
       "    </tr>\n",
       "    <tr>\n",
       "      <th>1</th>\n",
       "      <td>Cars1.png</td>\n",
       "      <td>N</td>\n",
       "    </tr>\n",
       "    <tr>\n",
       "      <th>2</th>\n",
       "      <td>Cars2.png</td>\n",
       "      <td>Y</td>\n",
       "    </tr>\n",
       "    <tr>\n",
       "      <th>3</th>\n",
       "      <td>Cars3.png</td>\n",
       "      <td>N</td>\n",
       "    </tr>\n",
       "    <tr>\n",
       "      <th>4</th>\n",
       "      <td>Cars4.png</td>\n",
       "      <td>N</td>\n",
       "    </tr>\n",
       "    <tr>\n",
       "      <th>5</th>\n",
       "      <td>Cars5.png</td>\n",
       "      <td>Y</td>\n",
       "    </tr>\n",
       "    <tr>\n",
       "      <th>6</th>\n",
       "      <td>Cars6.png</td>\n",
       "      <td>Y</td>\n",
       "    </tr>\n",
       "    <tr>\n",
       "      <th>7</th>\n",
       "      <td>Cars7.png</td>\n",
       "      <td>N</td>\n",
       "    </tr>\n",
       "    <tr>\n",
       "      <th>8</th>\n",
       "      <td>Cars8.png</td>\n",
       "      <td>Y</td>\n",
       "    </tr>\n",
       "    <tr>\n",
       "      <th>9</th>\n",
       "      <td>Cars9.png</td>\n",
       "      <td>N</td>\n",
       "    </tr>\n",
       "  </tbody>\n",
       "</table>\n",
       "</div>"
      ],
      "text/plain": [
       "    FileName US Car?\n",
       "0  Cars0.png       N\n",
       "1  Cars1.png       N\n",
       "2  Cars2.png       Y\n",
       "3  Cars3.png       N\n",
       "4  Cars4.png       N\n",
       "5  Cars5.png       Y\n",
       "6  Cars6.png       Y\n",
       "7  Cars7.png       N\n",
       "8  Cars8.png       Y\n",
       "9  Cars9.png       N"
      ]
     },
     "execution_count": 63,
     "metadata": {},
     "output_type": "execute_result"
    }
   ],
   "source": [
    "data.head(10)"
   ]
  },
  {
   "cell_type": "markdown",
   "id": "95a7903a",
   "metadata": {},
   "source": [
    "Encode the label data into 0's and 1's"
   ]
  },
  {
   "cell_type": "code",
   "execution_count": 64,
   "id": "148389a5",
   "metadata": {},
   "outputs": [
    {
     "name": "stdout",
     "output_type": "stream",
     "text": [
      "     FileName US Car?\n",
      "0           0       N\n",
      "1           1       N\n",
      "2          87       Y\n",
      "3         162       N\n",
      "4         228       N\n",
      "..        ...     ...\n",
      "294       243       N\n",
      "295       244       N\n",
      "296       245       N\n",
      "297       246       N\n",
      "298       248       N\n",
      "\n",
      "[299 rows x 2 columns]\n"
     ]
    }
   ],
   "source": [
    "# data[\"FileName\"] = data[\"FileName\"].str.rsplit(\"/d\", 1).str[0]\n",
    "# data[\"FileName\"] = data[\"FileName\"].astype(float)\n",
    "# data = data.drop('FileName', axis=1)\n",
    "# data[\"FileName\"] = data[\"FileName\"],dtype=\"string\"\n",
    "# data['FileName'] = data['FileName'].str[:4]\n",
    "from sklearn import preprocessing\n",
    "number = preprocessing.LabelEncoder()\n",
    "data['FileName'] = number.fit_transform(data.FileName)\n",
    "# data['FileName'] ='Cars' + data['FileName']\n",
    "print(data)"
   ]
  },
  {
   "cell_type": "code",
   "execution_count": 65,
   "id": "7c3703af",
   "metadata": {},
   "outputs": [
    {
     "data": {
      "text/html": [
       "<div>\n",
       "<style scoped>\n",
       "    .dataframe tbody tr th:only-of-type {\n",
       "        vertical-align: middle;\n",
       "    }\n",
       "\n",
       "    .dataframe tbody tr th {\n",
       "        vertical-align: top;\n",
       "    }\n",
       "\n",
       "    .dataframe thead th {\n",
       "        text-align: right;\n",
       "    }\n",
       "</style>\n",
       "<table border=\"1\" class=\"dataframe\">\n",
       "  <thead>\n",
       "    <tr style=\"text-align: right;\">\n",
       "      <th></th>\n",
       "      <th>FileName</th>\n",
       "      <th>US Car?</th>\n",
       "    </tr>\n",
       "  </thead>\n",
       "  <tbody>\n",
       "    <tr>\n",
       "      <th>289</th>\n",
       "      <td>238</td>\n",
       "      <td>N</td>\n",
       "    </tr>\n",
       "    <tr>\n",
       "      <th>290</th>\n",
       "      <td>239</td>\n",
       "      <td>N</td>\n",
       "    </tr>\n",
       "    <tr>\n",
       "      <th>291</th>\n",
       "      <td>240</td>\n",
       "      <td>N</td>\n",
       "    </tr>\n",
       "    <tr>\n",
       "      <th>292</th>\n",
       "      <td>241</td>\n",
       "      <td>N</td>\n",
       "    </tr>\n",
       "    <tr>\n",
       "      <th>293</th>\n",
       "      <td>242</td>\n",
       "      <td>Y</td>\n",
       "    </tr>\n",
       "    <tr>\n",
       "      <th>294</th>\n",
       "      <td>243</td>\n",
       "      <td>N</td>\n",
       "    </tr>\n",
       "    <tr>\n",
       "      <th>295</th>\n",
       "      <td>244</td>\n",
       "      <td>N</td>\n",
       "    </tr>\n",
       "    <tr>\n",
       "      <th>296</th>\n",
       "      <td>245</td>\n",
       "      <td>N</td>\n",
       "    </tr>\n",
       "    <tr>\n",
       "      <th>297</th>\n",
       "      <td>246</td>\n",
       "      <td>N</td>\n",
       "    </tr>\n",
       "    <tr>\n",
       "      <th>298</th>\n",
       "      <td>248</td>\n",
       "      <td>N</td>\n",
       "    </tr>\n",
       "  </tbody>\n",
       "</table>\n",
       "</div>"
      ],
      "text/plain": [
       "     FileName US Car?\n",
       "289       238       N\n",
       "290       239       N\n",
       "291       240       N\n",
       "292       241       N\n",
       "293       242       Y\n",
       "294       243       N\n",
       "295       244       N\n",
       "296       245       N\n",
       "297       246       N\n",
       "298       248       N"
      ]
     },
     "execution_count": 65,
     "metadata": {},
     "output_type": "execute_result"
    }
   ],
   "source": [
    "data.tail(10)"
   ]
  },
  {
   "cell_type": "code",
   "execution_count": 66,
   "id": "61b2e4e6",
   "metadata": {
    "scrolled": true
   },
   "outputs": [
    {
     "name": "stdout",
     "output_type": "stream",
     "text": [
      "Shape of dataframe: (299, 2)\n"
     ]
    },
    {
     "data": {
      "text/html": [
       "<div>\n",
       "<style scoped>\n",
       "    .dataframe tbody tr th:only-of-type {\n",
       "        vertical-align: middle;\n",
       "    }\n",
       "\n",
       "    .dataframe tbody tr th {\n",
       "        vertical-align: top;\n",
       "    }\n",
       "\n",
       "    .dataframe thead th {\n",
       "        text-align: right;\n",
       "    }\n",
       "</style>\n",
       "<table border=\"1\" class=\"dataframe\">\n",
       "  <thead>\n",
       "    <tr style=\"text-align: right;\">\n",
       "      <th></th>\n",
       "      <th>FileName</th>\n",
       "      <th>US Car?</th>\n",
       "    </tr>\n",
       "  </thead>\n",
       "  <tbody>\n",
       "    <tr>\n",
       "      <th>0</th>\n",
       "      <td>0</td>\n",
       "      <td>0</td>\n",
       "    </tr>\n",
       "    <tr>\n",
       "      <th>1</th>\n",
       "      <td>1</td>\n",
       "      <td>0</td>\n",
       "    </tr>\n",
       "    <tr>\n",
       "      <th>2</th>\n",
       "      <td>87</td>\n",
       "      <td>1</td>\n",
       "    </tr>\n",
       "    <tr>\n",
       "      <th>3</th>\n",
       "      <td>162</td>\n",
       "      <td>0</td>\n",
       "    </tr>\n",
       "    <tr>\n",
       "      <th>4</th>\n",
       "      <td>228</td>\n",
       "      <td>0</td>\n",
       "    </tr>\n",
       "    <tr>\n",
       "      <th>5</th>\n",
       "      <td>254</td>\n",
       "      <td>1</td>\n",
       "    </tr>\n",
       "    <tr>\n",
       "      <th>6</th>\n",
       "      <td>262</td>\n",
       "      <td>1</td>\n",
       "    </tr>\n",
       "    <tr>\n",
       "      <th>7</th>\n",
       "      <td>271</td>\n",
       "      <td>0</td>\n",
       "    </tr>\n",
       "    <tr>\n",
       "      <th>8</th>\n",
       "      <td>281</td>\n",
       "      <td>1</td>\n",
       "    </tr>\n",
       "    <tr>\n",
       "      <th>9</th>\n",
       "      <td>291</td>\n",
       "      <td>0</td>\n",
       "    </tr>\n",
       "  </tbody>\n",
       "</table>\n",
       "</div>"
      ],
      "text/plain": [
       "   FileName  US Car?\n",
       "0         0        0\n",
       "1         1        0\n",
       "2        87        1\n",
       "3       162        0\n",
       "4       228        0\n",
       "5       254        1\n",
       "6       262        1\n",
       "7       271        0\n",
       "8       281        1\n",
       "9       291        0"
      ]
     },
     "execution_count": 66,
     "metadata": {},
     "output_type": "execute_result"
    }
   ],
   "source": [
    "from sklearn.preprocessing import OneHotEncoder\n",
    "encoder = OneHotEncoder(sparse=False)\n",
    "\n",
    "# cat_cols = [US Car?]\n",
    "\n",
    "# # Encode Categorical Data\n",
    "# df_encoded = pd.DataFrame(encoder.fit_transform(data[cat_cols]))\n",
    "# df_encoded.columns = encoder.get_feature_names(cat_cols)\n",
    "\n",
    "# # Replace Categotical Data with Encoded Data\n",
    "# data = data.drop(cat_cols ,axis=1)\n",
    "# data = pd.concat([df_encoded, data], axis=1)\n",
    "\n",
    "# Encode target value\n",
    "data['US Car?'] = data['US Car?'].apply(lambda x: 1 if x == 'Y' else 0)\n",
    "\n",
    "print('Shape of dataframe:', data.shape)\n",
    "data.head(10)"
   ]
  },
  {
   "cell_type": "markdown",
   "id": "eae2f3aa",
   "metadata": {},
   "source": [
    "Load the images dataset (which contains only the original images)"
   ]
  },
  {
   "cell_type": "code",
   "execution_count": 68,
   "id": "e8735cd8",
   "metadata": {},
   "outputs": [
    {
     "name": "stdout",
     "output_type": "stream",
     "text": [
      "C:\\Users\\prave\\Desktop\\docs\\FA\\New folder\\New folder\\DMT\\Assignment 05 - Neural Networks and Evaluating Results\\New folder\\images\\Cars0.png\n",
      "C:\\Users\\prave\\Desktop\\docs\\FA\\New folder\\New folder\\DMT\\Assignment 05 - Neural Networks and Evaluating Results\\New folder\\images\\Cars1.png\n",
      "C:\\Users\\prave\\Desktop\\docs\\FA\\New folder\\New folder\\DMT\\Assignment 05 - Neural Networks and Evaluating Results\\New folder\\images\\Cars10.png\n",
      "C:\\Users\\prave\\Desktop\\docs\\FA\\New folder\\New folder\\DMT\\Assignment 05 - Neural Networks and Evaluating Results\\New folder\\images\\Cars100.png\n",
      "C:\\Users\\prave\\Desktop\\docs\\FA\\New folder\\New folder\\DMT\\Assignment 05 - Neural Networks and Evaluating Results\\New folder\\images\\Cars102.png\n",
      "C:\\Users\\prave\\Desktop\\docs\\FA\\New folder\\New folder\\DMT\\Assignment 05 - Neural Networks and Evaluating Results\\New folder\\images\\Cars103.png\n",
      "C:\\Users\\prave\\Desktop\\docs\\FA\\New folder\\New folder\\DMT\\Assignment 05 - Neural Networks and Evaluating Results\\New folder\\images\\Cars104.png\n",
      "C:\\Users\\prave\\Desktop\\docs\\FA\\New folder\\New folder\\DMT\\Assignment 05 - Neural Networks and Evaluating Results\\New folder\\images\\Cars106.png\n",
      "C:\\Users\\prave\\Desktop\\docs\\FA\\New folder\\New folder\\DMT\\Assignment 05 - Neural Networks and Evaluating Results\\New folder\\images\\Cars11.png\n",
      "C:\\Users\\prave\\Desktop\\docs\\FA\\New folder\\New folder\\DMT\\Assignment 05 - Neural Networks and Evaluating Results\\New folder\\images\\Cars110.png\n",
      "C:\\Users\\prave\\Desktop\\docs\\FA\\New folder\\New folder\\DMT\\Assignment 05 - Neural Networks and Evaluating Results\\New folder\\images\\Cars111.png\n",
      "C:\\Users\\prave\\Desktop\\docs\\FA\\New folder\\New folder\\DMT\\Assignment 05 - Neural Networks and Evaluating Results\\New folder\\images\\Cars112.png\n",
      "C:\\Users\\prave\\Desktop\\docs\\FA\\New folder\\New folder\\DMT\\Assignment 05 - Neural Networks and Evaluating Results\\New folder\\images\\Cars113.png\n",
      "C:\\Users\\prave\\Desktop\\docs\\FA\\New folder\\New folder\\DMT\\Assignment 05 - Neural Networks and Evaluating Results\\New folder\\images\\Cars114.png\n",
      "C:\\Users\\prave\\Desktop\\docs\\FA\\New folder\\New folder\\DMT\\Assignment 05 - Neural Networks and Evaluating Results\\New folder\\images\\Cars116.png\n",
      "C:\\Users\\prave\\Desktop\\docs\\FA\\New folder\\New folder\\DMT\\Assignment 05 - Neural Networks and Evaluating Results\\New folder\\images\\Cars117.png\n",
      "C:\\Users\\prave\\Desktop\\docs\\FA\\New folder\\New folder\\DMT\\Assignment 05 - Neural Networks and Evaluating Results\\New folder\\images\\Cars118.png\n",
      "C:\\Users\\prave\\Desktop\\docs\\FA\\New folder\\New folder\\DMT\\Assignment 05 - Neural Networks and Evaluating Results\\New folder\\images\\Cars119.png\n",
      "C:\\Users\\prave\\Desktop\\docs\\FA\\New folder\\New folder\\DMT\\Assignment 05 - Neural Networks and Evaluating Results\\New folder\\images\\Cars12.png\n",
      "C:\\Users\\prave\\Desktop\\docs\\FA\\New folder\\New folder\\DMT\\Assignment 05 - Neural Networks and Evaluating Results\\New folder\\images\\Cars120.png\n",
      "C:\\Users\\prave\\Desktop\\docs\\FA\\New folder\\New folder\\DMT\\Assignment 05 - Neural Networks and Evaluating Results\\New folder\\images\\Cars121.png\n",
      "C:\\Users\\prave\\Desktop\\docs\\FA\\New folder\\New folder\\DMT\\Assignment 05 - Neural Networks and Evaluating Results\\New folder\\images\\Cars123.png\n",
      "C:\\Users\\prave\\Desktop\\docs\\FA\\New folder\\New folder\\DMT\\Assignment 05 - Neural Networks and Evaluating Results\\New folder\\images\\Cars124.png\n",
      "C:\\Users\\prave\\Desktop\\docs\\FA\\New folder\\New folder\\DMT\\Assignment 05 - Neural Networks and Evaluating Results\\New folder\\images\\Cars125.png\n",
      "C:\\Users\\prave\\Desktop\\docs\\FA\\New folder\\New folder\\DMT\\Assignment 05 - Neural Networks and Evaluating Results\\New folder\\images\\Cars127.png\n",
      "C:\\Users\\prave\\Desktop\\docs\\FA\\New folder\\New folder\\DMT\\Assignment 05 - Neural Networks and Evaluating Results\\New folder\\images\\Cars129.png\n",
      "C:\\Users\\prave\\Desktop\\docs\\FA\\New folder\\New folder\\DMT\\Assignment 05 - Neural Networks and Evaluating Results\\New folder\\images\\Cars13.png\n",
      "C:\\Users\\prave\\Desktop\\docs\\FA\\New folder\\New folder\\DMT\\Assignment 05 - Neural Networks and Evaluating Results\\New folder\\images\\Cars130.png\n",
      "C:\\Users\\prave\\Desktop\\docs\\FA\\New folder\\New folder\\DMT\\Assignment 05 - Neural Networks and Evaluating Results\\New folder\\images\\Cars132.png\n",
      "C:\\Users\\prave\\Desktop\\docs\\FA\\New folder\\New folder\\DMT\\Assignment 05 - Neural Networks and Evaluating Results\\New folder\\images\\Cars133.png\n",
      "C:\\Users\\prave\\Desktop\\docs\\FA\\New folder\\New folder\\DMT\\Assignment 05 - Neural Networks and Evaluating Results\\New folder\\images\\Cars134.png\n",
      "C:\\Users\\prave\\Desktop\\docs\\FA\\New folder\\New folder\\DMT\\Assignment 05 - Neural Networks and Evaluating Results\\New folder\\images\\Cars136.png\n",
      "C:\\Users\\prave\\Desktop\\docs\\FA\\New folder\\New folder\\DMT\\Assignment 05 - Neural Networks and Evaluating Results\\New folder\\images\\Cars137.png\n",
      "C:\\Users\\prave\\Desktop\\docs\\FA\\New folder\\New folder\\DMT\\Assignment 05 - Neural Networks and Evaluating Results\\New folder\\images\\Cars138.png\n",
      "C:\\Users\\prave\\Desktop\\docs\\FA\\New folder\\New folder\\DMT\\Assignment 05 - Neural Networks and Evaluating Results\\New folder\\images\\Cars139.png\n",
      "C:\\Users\\prave\\Desktop\\docs\\FA\\New folder\\New folder\\DMT\\Assignment 05 - Neural Networks and Evaluating Results\\New folder\\images\\Cars14.png\n",
      "C:\\Users\\prave\\Desktop\\docs\\FA\\New folder\\New folder\\DMT\\Assignment 05 - Neural Networks and Evaluating Results\\New folder\\images\\Cars140.png\n",
      "C:\\Users\\prave\\Desktop\\docs\\FA\\New folder\\New folder\\DMT\\Assignment 05 - Neural Networks and Evaluating Results\\New folder\\images\\Cars141.png\n",
      "C:\\Users\\prave\\Desktop\\docs\\FA\\New folder\\New folder\\DMT\\Assignment 05 - Neural Networks and Evaluating Results\\New folder\\images\\Cars142.png\n",
      "C:\\Users\\prave\\Desktop\\docs\\FA\\New folder\\New folder\\DMT\\Assignment 05 - Neural Networks and Evaluating Results\\New folder\\images\\Cars143.png\n",
      "C:\\Users\\prave\\Desktop\\docs\\FA\\New folder\\New folder\\DMT\\Assignment 05 - Neural Networks and Evaluating Results\\New folder\\images\\Cars144.png\n",
      "C:\\Users\\prave\\Desktop\\docs\\FA\\New folder\\New folder\\DMT\\Assignment 05 - Neural Networks and Evaluating Results\\New folder\\images\\Cars146.png\n",
      "C:\\Users\\prave\\Desktop\\docs\\FA\\New folder\\New folder\\DMT\\Assignment 05 - Neural Networks and Evaluating Results\\New folder\\images\\Cars148.png\n",
      "C:\\Users\\prave\\Desktop\\docs\\FA\\New folder\\New folder\\DMT\\Assignment 05 - Neural Networks and Evaluating Results\\New folder\\images\\Cars149.png\n",
      "C:\\Users\\prave\\Desktop\\docs\\FA\\New folder\\New folder\\DMT\\Assignment 05 - Neural Networks and Evaluating Results\\New folder\\images\\Cars15.png\n",
      "C:\\Users\\prave\\Desktop\\docs\\FA\\New folder\\New folder\\DMT\\Assignment 05 - Neural Networks and Evaluating Results\\New folder\\images\\Cars150.png\n",
      "C:\\Users\\prave\\Desktop\\docs\\FA\\New folder\\New folder\\DMT\\Assignment 05 - Neural Networks and Evaluating Results\\New folder\\images\\Cars151.png\n",
      "C:\\Users\\prave\\Desktop\\docs\\FA\\New folder\\New folder\\DMT\\Assignment 05 - Neural Networks and Evaluating Results\\New folder\\images\\Cars152.png\n",
      "C:\\Users\\prave\\Desktop\\docs\\FA\\New folder\\New folder\\DMT\\Assignment 05 - Neural Networks and Evaluating Results\\New folder\\images\\Cars155.png\n",
      "C:\\Users\\prave\\Desktop\\docs\\FA\\New folder\\New folder\\DMT\\Assignment 05 - Neural Networks and Evaluating Results\\New folder\\images\\Cars156.png\n",
      "C:\\Users\\prave\\Desktop\\docs\\FA\\New folder\\New folder\\DMT\\Assignment 05 - Neural Networks and Evaluating Results\\New folder\\images\\Cars157.png\n",
      "C:\\Users\\prave\\Desktop\\docs\\FA\\New folder\\New folder\\DMT\\Assignment 05 - Neural Networks and Evaluating Results\\New folder\\images\\Cars158.png\n",
      "C:\\Users\\prave\\Desktop\\docs\\FA\\New folder\\New folder\\DMT\\Assignment 05 - Neural Networks and Evaluating Results\\New folder\\images\\Cars16.png\n",
      "C:\\Users\\prave\\Desktop\\docs\\FA\\New folder\\New folder\\DMT\\Assignment 05 - Neural Networks and Evaluating Results\\New folder\\images\\Cars160.png\n",
      "C:\\Users\\prave\\Desktop\\docs\\FA\\New folder\\New folder\\DMT\\Assignment 05 - Neural Networks and Evaluating Results\\New folder\\images\\Cars162.png\n",
      "C:\\Users\\prave\\Desktop\\docs\\FA\\New folder\\New folder\\DMT\\Assignment 05 - Neural Networks and Evaluating Results\\New folder\\images\\Cars163.png\n",
      "C:\\Users\\prave\\Desktop\\docs\\FA\\New folder\\New folder\\DMT\\Assignment 05 - Neural Networks and Evaluating Results\\New folder\\images\\Cars164.png\n",
      "C:\\Users\\prave\\Desktop\\docs\\FA\\New folder\\New folder\\DMT\\Assignment 05 - Neural Networks and Evaluating Results\\New folder\\images\\Cars165.png\n",
      "C:\\Users\\prave\\Desktop\\docs\\FA\\New folder\\New folder\\DMT\\Assignment 05 - Neural Networks and Evaluating Results\\New folder\\images\\Cars166.png\n",
      "C:\\Users\\prave\\Desktop\\docs\\FA\\New folder\\New folder\\DMT\\Assignment 05 - Neural Networks and Evaluating Results\\New folder\\images\\Cars167.png\n",
      "C:\\Users\\prave\\Desktop\\docs\\FA\\New folder\\New folder\\DMT\\Assignment 05 - Neural Networks and Evaluating Results\\New folder\\images\\Cars168.png\n",
      "C:\\Users\\prave\\Desktop\\docs\\FA\\New folder\\New folder\\DMT\\Assignment 05 - Neural Networks and Evaluating Results\\New folder\\images\\Cars17.png\n",
      "C:\\Users\\prave\\Desktop\\docs\\FA\\New folder\\New folder\\DMT\\Assignment 05 - Neural Networks and Evaluating Results\\New folder\\images\\Cars170.png\n",
      "C:\\Users\\prave\\Desktop\\docs\\FA\\New folder\\New folder\\DMT\\Assignment 05 - Neural Networks and Evaluating Results\\New folder\\images\\Cars172.png\n",
      "C:\\Users\\prave\\Desktop\\docs\\FA\\New folder\\New folder\\DMT\\Assignment 05 - Neural Networks and Evaluating Results\\New folder\\images\\Cars173.png\n",
      "C:\\Users\\prave\\Desktop\\docs\\FA\\New folder\\New folder\\DMT\\Assignment 05 - Neural Networks and Evaluating Results\\New folder\\images\\Cars174.png\n",
      "C:\\Users\\prave\\Desktop\\docs\\FA\\New folder\\New folder\\DMT\\Assignment 05 - Neural Networks and Evaluating Results\\New folder\\images\\Cars175.png\n",
      "C:\\Users\\prave\\Desktop\\docs\\FA\\New folder\\New folder\\DMT\\Assignment 05 - Neural Networks and Evaluating Results\\New folder\\images\\Cars176.png\n",
      "C:\\Users\\prave\\Desktop\\docs\\FA\\New folder\\New folder\\DMT\\Assignment 05 - Neural Networks and Evaluating Results\\New folder\\images\\Cars177.png\n",
      "C:\\Users\\prave\\Desktop\\docs\\FA\\New folder\\New folder\\DMT\\Assignment 05 - Neural Networks and Evaluating Results\\New folder\\images\\Cars178.png\n",
      "C:\\Users\\prave\\Desktop\\docs\\FA\\New folder\\New folder\\DMT\\Assignment 05 - Neural Networks and Evaluating Results\\New folder\\images\\Cars179.png\n",
      "C:\\Users\\prave\\Desktop\\docs\\FA\\New folder\\New folder\\DMT\\Assignment 05 - Neural Networks and Evaluating Results\\New folder\\images\\Cars18.png\n",
      "C:\\Users\\prave\\Desktop\\docs\\FA\\New folder\\New folder\\DMT\\Assignment 05 - Neural Networks and Evaluating Results\\New folder\\images\\Cars181.png\n",
      "C:\\Users\\prave\\Desktop\\docs\\FA\\New folder\\New folder\\DMT\\Assignment 05 - Neural Networks and Evaluating Results\\New folder\\images\\Cars182.png\n",
      "C:\\Users\\prave\\Desktop\\docs\\FA\\New folder\\New folder\\DMT\\Assignment 05 - Neural Networks and Evaluating Results\\New folder\\images\\Cars183.png\n",
      "C:\\Users\\prave\\Desktop\\docs\\FA\\New folder\\New folder\\DMT\\Assignment 05 - Neural Networks and Evaluating Results\\New folder\\images\\Cars184.png\n",
      "C:\\Users\\prave\\Desktop\\docs\\FA\\New folder\\New folder\\DMT\\Assignment 05 - Neural Networks and Evaluating Results\\New folder\\images\\Cars185.png\n",
      "C:\\Users\\prave\\Desktop\\docs\\FA\\New folder\\New folder\\DMT\\Assignment 05 - Neural Networks and Evaluating Results\\New folder\\images\\Cars186.png\n",
      "C:\\Users\\prave\\Desktop\\docs\\FA\\New folder\\New folder\\DMT\\Assignment 05 - Neural Networks and Evaluating Results\\New folder\\images\\Cars188.png\n",
      "C:\\Users\\prave\\Desktop\\docs\\FA\\New folder\\New folder\\DMT\\Assignment 05 - Neural Networks and Evaluating Results\\New folder\\images\\Cars19.png\n",
      "C:\\Users\\prave\\Desktop\\docs\\FA\\New folder\\New folder\\DMT\\Assignment 05 - Neural Networks and Evaluating Results\\New folder\\images\\Cars191.png\n",
      "C:\\Users\\prave\\Desktop\\docs\\FA\\New folder\\New folder\\DMT\\Assignment 05 - Neural Networks and Evaluating Results\\New folder\\images\\Cars192.png\n",
      "C:\\Users\\prave\\Desktop\\docs\\FA\\New folder\\New folder\\DMT\\Assignment 05 - Neural Networks and Evaluating Results\\New folder\\images\\Cars193.png\n",
      "C:\\Users\\prave\\Desktop\\docs\\FA\\New folder\\New folder\\DMT\\Assignment 05 - Neural Networks and Evaluating Results\\New folder\\images\\Cars194.png\n",
      "C:\\Users\\prave\\Desktop\\docs\\FA\\New folder\\New folder\\DMT\\Assignment 05 - Neural Networks and Evaluating Results\\New folder\\images\\Cars195.png\n",
      "C:\\Users\\prave\\Desktop\\docs\\FA\\New folder\\New folder\\DMT\\Assignment 05 - Neural Networks and Evaluating Results\\New folder\\images\\Cars196.png\n",
      "C:\\Users\\prave\\Desktop\\docs\\FA\\New folder\\New folder\\DMT\\Assignment 05 - Neural Networks and Evaluating Results\\New folder\\images\\Cars199.png\n",
      "C:\\Users\\prave\\Desktop\\docs\\FA\\New folder\\New folder\\DMT\\Assignment 05 - Neural Networks and Evaluating Results\\New folder\\images\\Cars2.png\n",
      "C:\\Users\\prave\\Desktop\\docs\\FA\\New folder\\New folder\\DMT\\Assignment 05 - Neural Networks and Evaluating Results\\New folder\\images\\Cars20.png\n",
      "C:\\Users\\prave\\Desktop\\docs\\FA\\New folder\\New folder\\DMT\\Assignment 05 - Neural Networks and Evaluating Results\\New folder\\images\\Cars202.png\n",
      "C:\\Users\\prave\\Desktop\\docs\\FA\\New folder\\New folder\\DMT\\Assignment 05 - Neural Networks and Evaluating Results\\New folder\\images\\Cars204.png\n",
      "C:\\Users\\prave\\Desktop\\docs\\FA\\New folder\\New folder\\DMT\\Assignment 05 - Neural Networks and Evaluating Results\\New folder\\images\\Cars205.png\n",
      "C:\\Users\\prave\\Desktop\\docs\\FA\\New folder\\New folder\\DMT\\Assignment 05 - Neural Networks and Evaluating Results\\New folder\\images\\Cars206.png\n",
      "C:\\Users\\prave\\Desktop\\docs\\FA\\New folder\\New folder\\DMT\\Assignment 05 - Neural Networks and Evaluating Results\\New folder\\images\\Cars207.png\n",
      "C:\\Users\\prave\\Desktop\\docs\\FA\\New folder\\New folder\\DMT\\Assignment 05 - Neural Networks and Evaluating Results\\New folder\\images\\Cars208.png\n",
      "C:\\Users\\prave\\Desktop\\docs\\FA\\New folder\\New folder\\DMT\\Assignment 05 - Neural Networks and Evaluating Results\\New folder\\images\\Cars209.png\n",
      "C:\\Users\\prave\\Desktop\\docs\\FA\\New folder\\New folder\\DMT\\Assignment 05 - Neural Networks and Evaluating Results\\New folder\\images\\Cars21.png\n",
      "C:\\Users\\prave\\Desktop\\docs\\FA\\New folder\\New folder\\DMT\\Assignment 05 - Neural Networks and Evaluating Results\\New folder\\images\\Cars211.png\n",
      "C:\\Users\\prave\\Desktop\\docs\\FA\\New folder\\New folder\\DMT\\Assignment 05 - Neural Networks and Evaluating Results\\New folder\\images\\Cars212.png\n",
      "C:\\Users\\prave\\Desktop\\docs\\FA\\New folder\\New folder\\DMT\\Assignment 05 - Neural Networks and Evaluating Results\\New folder\\images\\Cars213.png\n",
      "C:\\Users\\prave\\Desktop\\docs\\FA\\New folder\\New folder\\DMT\\Assignment 05 - Neural Networks and Evaluating Results\\New folder\\images\\Cars214.png\n",
      "C:\\Users\\prave\\Desktop\\docs\\FA\\New folder\\New folder\\DMT\\Assignment 05 - Neural Networks and Evaluating Results\\New folder\\images\\Cars215.png\n",
      "C:\\Users\\prave\\Desktop\\docs\\FA\\New folder\\New folder\\DMT\\Assignment 05 - Neural Networks and Evaluating Results\\New folder\\images\\Cars218.png\n",
      "C:\\Users\\prave\\Desktop\\docs\\FA\\New folder\\New folder\\DMT\\Assignment 05 - Neural Networks and Evaluating Results\\New folder\\images\\Cars219.png\n",
      "C:\\Users\\prave\\Desktop\\docs\\FA\\New folder\\New folder\\DMT\\Assignment 05 - Neural Networks and Evaluating Results\\New folder\\images\\Cars22.png\n",
      "C:\\Users\\prave\\Desktop\\docs\\FA\\New folder\\New folder\\DMT\\Assignment 05 - Neural Networks and Evaluating Results\\New folder\\images\\Cars220.png\n",
      "C:\\Users\\prave\\Desktop\\docs\\FA\\New folder\\New folder\\DMT\\Assignment 05 - Neural Networks and Evaluating Results\\New folder\\images\\Cars221.png\n",
      "C:\\Users\\prave\\Desktop\\docs\\FA\\New folder\\New folder\\DMT\\Assignment 05 - Neural Networks and Evaluating Results\\New folder\\images\\Cars223.png\n",
      "C:\\Users\\prave\\Desktop\\docs\\FA\\New folder\\New folder\\DMT\\Assignment 05 - Neural Networks and Evaluating Results\\New folder\\images\\Cars224.png\n",
      "C:\\Users\\prave\\Desktop\\docs\\FA\\New folder\\New folder\\DMT\\Assignment 05 - Neural Networks and Evaluating Results\\New folder\\images\\Cars226.png\n",
      "C:\\Users\\prave\\Desktop\\docs\\FA\\New folder\\New folder\\DMT\\Assignment 05 - Neural Networks and Evaluating Results\\New folder\\images\\Cars227.png\n",
      "C:\\Users\\prave\\Desktop\\docs\\FA\\New folder\\New folder\\DMT\\Assignment 05 - Neural Networks and Evaluating Results\\New folder\\images\\Cars228.png\n",
      "C:\\Users\\prave\\Desktop\\docs\\FA\\New folder\\New folder\\DMT\\Assignment 05 - Neural Networks and Evaluating Results\\New folder\\images\\Cars229.png\n",
      "C:\\Users\\prave\\Desktop\\docs\\FA\\New folder\\New folder\\DMT\\Assignment 05 - Neural Networks and Evaluating Results\\New folder\\images\\Cars23.png\n",
      "C:\\Users\\prave\\Desktop\\docs\\FA\\New folder\\New folder\\DMT\\Assignment 05 - Neural Networks and Evaluating Results\\New folder\\images\\Cars231.png\n",
      "C:\\Users\\prave\\Desktop\\docs\\FA\\New folder\\New folder\\DMT\\Assignment 05 - Neural Networks and Evaluating Results\\New folder\\images\\Cars232.png\n",
      "C:\\Users\\prave\\Desktop\\docs\\FA\\New folder\\New folder\\DMT\\Assignment 05 - Neural Networks and Evaluating Results\\New folder\\images\\Cars234.png\n",
      "C:\\Users\\prave\\Desktop\\docs\\FA\\New folder\\New folder\\DMT\\Assignment 05 - Neural Networks and Evaluating Results\\New folder\\images\\Cars235.png\n",
      "C:\\Users\\prave\\Desktop\\docs\\FA\\New folder\\New folder\\DMT\\Assignment 05 - Neural Networks and Evaluating Results\\New folder\\images\\Cars236.png\n",
      "C:\\Users\\prave\\Desktop\\docs\\FA\\New folder\\New folder\\DMT\\Assignment 05 - Neural Networks and Evaluating Results\\New folder\\images\\Cars237.png\n",
      "C:\\Users\\prave\\Desktop\\docs\\FA\\New folder\\New folder\\DMT\\Assignment 05 - Neural Networks and Evaluating Results\\New folder\\images\\Cars24.png\n",
      "C:\\Users\\prave\\Desktop\\docs\\FA\\New folder\\New folder\\DMT\\Assignment 05 - Neural Networks and Evaluating Results\\New folder\\images\\Cars240.png\n",
      "C:\\Users\\prave\\Desktop\\docs\\FA\\New folder\\New folder\\DMT\\Assignment 05 - Neural Networks and Evaluating Results\\New folder\\images\\Cars241.png\n",
      "C:\\Users\\prave\\Desktop\\docs\\FA\\New folder\\New folder\\DMT\\Assignment 05 - Neural Networks and Evaluating Results\\New folder\\images\\Cars243.png\n",
      "C:\\Users\\prave\\Desktop\\docs\\FA\\New folder\\New folder\\DMT\\Assignment 05 - Neural Networks and Evaluating Results\\New folder\\images\\Cars244.png\n",
      "C:\\Users\\prave\\Desktop\\docs\\FA\\New folder\\New folder\\DMT\\Assignment 05 - Neural Networks and Evaluating Results\\New folder\\images\\Cars246.png\n",
      "C:\\Users\\prave\\Desktop\\docs\\FA\\New folder\\New folder\\DMT\\Assignment 05 - Neural Networks and Evaluating Results\\New folder\\images\\Cars248.png\n",
      "C:\\Users\\prave\\Desktop\\docs\\FA\\New folder\\New folder\\DMT\\Assignment 05 - Neural Networks and Evaluating Results\\New folder\\images\\Cars249.png\n",
      "C:\\Users\\prave\\Desktop\\docs\\FA\\New folder\\New folder\\DMT\\Assignment 05 - Neural Networks and Evaluating Results\\New folder\\images\\Cars25.png\n",
      "C:\\Users\\prave\\Desktop\\docs\\FA\\New folder\\New folder\\DMT\\Assignment 05 - Neural Networks and Evaluating Results\\New folder\\images\\Cars251.png\n",
      "C:\\Users\\prave\\Desktop\\docs\\FA\\New folder\\New folder\\DMT\\Assignment 05 - Neural Networks and Evaluating Results\\New folder\\images\\Cars252.png\n",
      "C:\\Users\\prave\\Desktop\\docs\\FA\\New folder\\New folder\\DMT\\Assignment 05 - Neural Networks and Evaluating Results\\New folder\\images\\Cars253.png\n",
      "C:\\Users\\prave\\Desktop\\docs\\FA\\New folder\\New folder\\DMT\\Assignment 05 - Neural Networks and Evaluating Results\\New folder\\images\\Cars254.png\n",
      "C:\\Users\\prave\\Desktop\\docs\\FA\\New folder\\New folder\\DMT\\Assignment 05 - Neural Networks and Evaluating Results\\New folder\\images\\Cars255.png\n",
      "C:\\Users\\prave\\Desktop\\docs\\FA\\New folder\\New folder\\DMT\\Assignment 05 - Neural Networks and Evaluating Results\\New folder\\images\\Cars257.png\n",
      "C:\\Users\\prave\\Desktop\\docs\\FA\\New folder\\New folder\\DMT\\Assignment 05 - Neural Networks and Evaluating Results\\New folder\\images\\Cars258.png\n",
      "C:\\Users\\prave\\Desktop\\docs\\FA\\New folder\\New folder\\DMT\\Assignment 05 - Neural Networks and Evaluating Results\\New folder\\images\\Cars26.png\n",
      "C:\\Users\\prave\\Desktop\\docs\\FA\\New folder\\New folder\\DMT\\Assignment 05 - Neural Networks and Evaluating Results\\New folder\\images\\Cars260.png\n",
      "C:\\Users\\prave\\Desktop\\docs\\FA\\New folder\\New folder\\DMT\\Assignment 05 - Neural Networks and Evaluating Results\\New folder\\images\\Cars261.png\n",
      "C:\\Users\\prave\\Desktop\\docs\\FA\\New folder\\New folder\\DMT\\Assignment 05 - Neural Networks and Evaluating Results\\New folder\\images\\Cars262.png\n",
      "C:\\Users\\prave\\Desktop\\docs\\FA\\New folder\\New folder\\DMT\\Assignment 05 - Neural Networks and Evaluating Results\\New folder\\images\\Cars263.png\n",
      "C:\\Users\\prave\\Desktop\\docs\\FA\\New folder\\New folder\\DMT\\Assignment 05 - Neural Networks and Evaluating Results\\New folder\\images\\Cars264.png\n",
      "C:\\Users\\prave\\Desktop\\docs\\FA\\New folder\\New folder\\DMT\\Assignment 05 - Neural Networks and Evaluating Results\\New folder\\images\\Cars265.png\n",
      "C:\\Users\\prave\\Desktop\\docs\\FA\\New folder\\New folder\\DMT\\Assignment 05 - Neural Networks and Evaluating Results\\New folder\\images\\Cars267.png\n",
      "C:\\Users\\prave\\Desktop\\docs\\FA\\New folder\\New folder\\DMT\\Assignment 05 - Neural Networks and Evaluating Results\\New folder\\images\\Cars268.png\n",
      "C:\\Users\\prave\\Desktop\\docs\\FA\\New folder\\New folder\\DMT\\Assignment 05 - Neural Networks and Evaluating Results\\New folder\\images\\Cars269.png\n",
      "C:\\Users\\prave\\Desktop\\docs\\FA\\New folder\\New folder\\DMT\\Assignment 05 - Neural Networks and Evaluating Results\\New folder\\images\\Cars270.png\n",
      "C:\\Users\\prave\\Desktop\\docs\\FA\\New folder\\New folder\\DMT\\Assignment 05 - Neural Networks and Evaluating Results\\New folder\\images\\Cars272.png\n",
      "C:\\Users\\prave\\Desktop\\docs\\FA\\New folder\\New folder\\DMT\\Assignment 05 - Neural Networks and Evaluating Results\\New folder\\images\\Cars275.png\n",
      "C:\\Users\\prave\\Desktop\\docs\\FA\\New folder\\New folder\\DMT\\Assignment 05 - Neural Networks and Evaluating Results\\New folder\\images\\Cars277.png\n",
      "C:\\Users\\prave\\Desktop\\docs\\FA\\New folder\\New folder\\DMT\\Assignment 05 - Neural Networks and Evaluating Results\\New folder\\images\\Cars278.png\n",
      "C:\\Users\\prave\\Desktop\\docs\\FA\\New folder\\New folder\\DMT\\Assignment 05 - Neural Networks and Evaluating Results\\New folder\\images\\Cars28.png\n",
      "C:\\Users\\prave\\Desktop\\docs\\FA\\New folder\\New folder\\DMT\\Assignment 05 - Neural Networks and Evaluating Results\\New folder\\images\\Cars280.png\n",
      "C:\\Users\\prave\\Desktop\\docs\\FA\\New folder\\New folder\\DMT\\Assignment 05 - Neural Networks and Evaluating Results\\New folder\\images\\Cars283.png\n",
      "C:\\Users\\prave\\Desktop\\docs\\FA\\New folder\\New folder\\DMT\\Assignment 05 - Neural Networks and Evaluating Results\\New folder\\images\\Cars289.png\n",
      "C:\\Users\\prave\\Desktop\\docs\\FA\\New folder\\New folder\\DMT\\Assignment 05 - Neural Networks and Evaluating Results\\New folder\\images\\Cars290.png\n",
      "C:\\Users\\prave\\Desktop\\docs\\FA\\New folder\\New folder\\DMT\\Assignment 05 - Neural Networks and Evaluating Results\\New folder\\images\\Cars291.png\n",
      "C:\\Users\\prave\\Desktop\\docs\\FA\\New folder\\New folder\\DMT\\Assignment 05 - Neural Networks and Evaluating Results\\New folder\\images\\Cars294.png\n",
      "C:\\Users\\prave\\Desktop\\docs\\FA\\New folder\\New folder\\DMT\\Assignment 05 - Neural Networks and Evaluating Results\\New folder\\images\\Cars295.png\n",
      "C:\\Users\\prave\\Desktop\\docs\\FA\\New folder\\New folder\\DMT\\Assignment 05 - Neural Networks and Evaluating Results\\New folder\\images\\Cars296.png\n",
      "C:\\Users\\prave\\Desktop\\docs\\FA\\New folder\\New folder\\DMT\\Assignment 05 - Neural Networks and Evaluating Results\\New folder\\images\\Cars298.png\n",
      "C:\\Users\\prave\\Desktop\\docs\\FA\\New folder\\New folder\\DMT\\Assignment 05 - Neural Networks and Evaluating Results\\New folder\\images\\Cars299.png\n",
      "C:\\Users\\prave\\Desktop\\docs\\FA\\New folder\\New folder\\DMT\\Assignment 05 - Neural Networks and Evaluating Results\\New folder\\images\\Cars3.png\n",
      "C:\\Users\\prave\\Desktop\\docs\\FA\\New folder\\New folder\\DMT\\Assignment 05 - Neural Networks and Evaluating Results\\New folder\\images\\Cars30.png\n",
      "C:\\Users\\prave\\Desktop\\docs\\FA\\New folder\\New folder\\DMT\\Assignment 05 - Neural Networks and Evaluating Results\\New folder\\images\\Cars302.png\n",
      "C:\\Users\\prave\\Desktop\\docs\\FA\\New folder\\New folder\\DMT\\Assignment 05 - Neural Networks and Evaluating Results\\New folder\\images\\Cars304.png\n",
      "C:\\Users\\prave\\Desktop\\docs\\FA\\New folder\\New folder\\DMT\\Assignment 05 - Neural Networks and Evaluating Results\\New folder\\images\\Cars305.png\n",
      "C:\\Users\\prave\\Desktop\\docs\\FA\\New folder\\New folder\\DMT\\Assignment 05 - Neural Networks and Evaluating Results\\New folder\\images\\Cars306.png\n",
      "C:\\Users\\prave\\Desktop\\docs\\FA\\New folder\\New folder\\DMT\\Assignment 05 - Neural Networks and Evaluating Results\\New folder\\images\\Cars307.png\n",
      "C:\\Users\\prave\\Desktop\\docs\\FA\\New folder\\New folder\\DMT\\Assignment 05 - Neural Networks and Evaluating Results\\New folder\\images\\Cars309.png\n",
      "C:\\Users\\prave\\Desktop\\docs\\FA\\New folder\\New folder\\DMT\\Assignment 05 - Neural Networks and Evaluating Results\\New folder\\images\\Cars31.png\n",
      "C:\\Users\\prave\\Desktop\\docs\\FA\\New folder\\New folder\\DMT\\Assignment 05 - Neural Networks and Evaluating Results\\New folder\\images\\Cars311.png\n",
      "C:\\Users\\prave\\Desktop\\docs\\FA\\New folder\\New folder\\DMT\\Assignment 05 - Neural Networks and Evaluating Results\\New folder\\images\\Cars314.png\n",
      "C:\\Users\\prave\\Desktop\\docs\\FA\\New folder\\New folder\\DMT\\Assignment 05 - Neural Networks and Evaluating Results\\New folder\\images\\Cars315.png\n",
      "C:\\Users\\prave\\Desktop\\docs\\FA\\New folder\\New folder\\DMT\\Assignment 05 - Neural Networks and Evaluating Results\\New folder\\images\\Cars316.png\n",
      "C:\\Users\\prave\\Desktop\\docs\\FA\\New folder\\New folder\\DMT\\Assignment 05 - Neural Networks and Evaluating Results\\New folder\\images\\Cars319.png\n",
      "C:\\Users\\prave\\Desktop\\docs\\FA\\New folder\\New folder\\DMT\\Assignment 05 - Neural Networks and Evaluating Results\\New folder\\images\\Cars32.png\n",
      "C:\\Users\\prave\\Desktop\\docs\\FA\\New folder\\New folder\\DMT\\Assignment 05 - Neural Networks and Evaluating Results\\New folder\\images\\Cars321.png\n",
      "C:\\Users\\prave\\Desktop\\docs\\FA\\New folder\\New folder\\DMT\\Assignment 05 - Neural Networks and Evaluating Results\\New folder\\images\\Cars322.png\n",
      "C:\\Users\\prave\\Desktop\\docs\\FA\\New folder\\New folder\\DMT\\Assignment 05 - Neural Networks and Evaluating Results\\New folder\\images\\Cars325.png\n",
      "C:\\Users\\prave\\Desktop\\docs\\FA\\New folder\\New folder\\DMT\\Assignment 05 - Neural Networks and Evaluating Results\\New folder\\images\\Cars329.png\n",
      "C:\\Users\\prave\\Desktop\\docs\\FA\\New folder\\New folder\\DMT\\Assignment 05 - Neural Networks and Evaluating Results\\New folder\\images\\Cars33.png\n",
      "C:\\Users\\prave\\Desktop\\docs\\FA\\New folder\\New folder\\DMT\\Assignment 05 - Neural Networks and Evaluating Results\\New folder\\images\\Cars330.png\n",
      "C:\\Users\\prave\\Desktop\\docs\\FA\\New folder\\New folder\\DMT\\Assignment 05 - Neural Networks and Evaluating Results\\New folder\\images\\Cars331.png\n",
      "C:\\Users\\prave\\Desktop\\docs\\FA\\New folder\\New folder\\DMT\\Assignment 05 - Neural Networks and Evaluating Results\\New folder\\images\\Cars334.png\n",
      "C:\\Users\\prave\\Desktop\\docs\\FA\\New folder\\New folder\\DMT\\Assignment 05 - Neural Networks and Evaluating Results\\New folder\\images\\Cars337.png\n",
      "C:\\Users\\prave\\Desktop\\docs\\FA\\New folder\\New folder\\DMT\\Assignment 05 - Neural Networks and Evaluating Results\\New folder\\images\\Cars338.png\n",
      "C:\\Users\\prave\\Desktop\\docs\\FA\\New folder\\New folder\\DMT\\Assignment 05 - Neural Networks and Evaluating Results\\New folder\\images\\Cars34.png\n",
      "C:\\Users\\prave\\Desktop\\docs\\FA\\New folder\\New folder\\DMT\\Assignment 05 - Neural Networks and Evaluating Results\\New folder\\images\\Cars340.png\n",
      "C:\\Users\\prave\\Desktop\\docs\\FA\\New folder\\New folder\\DMT\\Assignment 05 - Neural Networks and Evaluating Results\\New folder\\images\\Cars343.png\n",
      "C:\\Users\\prave\\Desktop\\docs\\FA\\New folder\\New folder\\DMT\\Assignment 05 - Neural Networks and Evaluating Results\\New folder\\images\\Cars344.png\n",
      "C:\\Users\\prave\\Desktop\\docs\\FA\\New folder\\New folder\\DMT\\Assignment 05 - Neural Networks and Evaluating Results\\New folder\\images\\Cars345.png\n",
      "C:\\Users\\prave\\Desktop\\docs\\FA\\New folder\\New folder\\DMT\\Assignment 05 - Neural Networks and Evaluating Results\\New folder\\images\\Cars347.png\n",
      "C:\\Users\\prave\\Desktop\\docs\\FA\\New folder\\New folder\\DMT\\Assignment 05 - Neural Networks and Evaluating Results\\New folder\\images\\Cars349.png\n",
      "C:\\Users\\prave\\Desktop\\docs\\FA\\New folder\\New folder\\DMT\\Assignment 05 - Neural Networks and Evaluating Results\\New folder\\images\\Cars35.png\n",
      "C:\\Users\\prave\\Desktop\\docs\\FA\\New folder\\New folder\\DMT\\Assignment 05 - Neural Networks and Evaluating Results\\New folder\\images\\Cars350.png\n",
      "C:\\Users\\prave\\Desktop\\docs\\FA\\New folder\\New folder\\DMT\\Assignment 05 - Neural Networks and Evaluating Results\\New folder\\images\\Cars351.png\n",
      "C:\\Users\\prave\\Desktop\\docs\\FA\\New folder\\New folder\\DMT\\Assignment 05 - Neural Networks and Evaluating Results\\New folder\\images\\Cars352.png\n",
      "C:\\Users\\prave\\Desktop\\docs\\FA\\New folder\\New folder\\DMT\\Assignment 05 - Neural Networks and Evaluating Results\\New folder\\images\\Cars354.png\n",
      "C:\\Users\\prave\\Desktop\\docs\\FA\\New folder\\New folder\\DMT\\Assignment 05 - Neural Networks and Evaluating Results\\New folder\\images\\Cars355.png\n",
      "C:\\Users\\prave\\Desktop\\docs\\FA\\New folder\\New folder\\DMT\\Assignment 05 - Neural Networks and Evaluating Results\\New folder\\images\\Cars356.png\n",
      "C:\\Users\\prave\\Desktop\\docs\\FA\\New folder\\New folder\\DMT\\Assignment 05 - Neural Networks and Evaluating Results\\New folder\\images\\Cars358.png\n",
      "C:\\Users\\prave\\Desktop\\docs\\FA\\New folder\\New folder\\DMT\\Assignment 05 - Neural Networks and Evaluating Results\\New folder\\images\\Cars359.png\n",
      "C:\\Users\\prave\\Desktop\\docs\\FA\\New folder\\New folder\\DMT\\Assignment 05 - Neural Networks and Evaluating Results\\New folder\\images\\Cars36.png\n",
      "C:\\Users\\prave\\Desktop\\docs\\FA\\New folder\\New folder\\DMT\\Assignment 05 - Neural Networks and Evaluating Results\\New folder\\images\\Cars360.png\n",
      "C:\\Users\\prave\\Desktop\\docs\\FA\\New folder\\New folder\\DMT\\Assignment 05 - Neural Networks and Evaluating Results\\New folder\\images\\Cars362.png\n",
      "C:\\Users\\prave\\Desktop\\docs\\FA\\New folder\\New folder\\DMT\\Assignment 05 - Neural Networks and Evaluating Results\\New folder\\images\\Cars363.png\n",
      "C:\\Users\\prave\\Desktop\\docs\\FA\\New folder\\New folder\\DMT\\Assignment 05 - Neural Networks and Evaluating Results\\New folder\\images\\Cars365.png\n",
      "C:\\Users\\prave\\Desktop\\docs\\FA\\New folder\\New folder\\DMT\\Assignment 05 - Neural Networks and Evaluating Results\\New folder\\images\\Cars37.png\n",
      "C:\\Users\\prave\\Desktop\\docs\\FA\\New folder\\New folder\\DMT\\Assignment 05 - Neural Networks and Evaluating Results\\New folder\\images\\Cars371.png\n",
      "C:\\Users\\prave\\Desktop\\docs\\FA\\New folder\\New folder\\DMT\\Assignment 05 - Neural Networks and Evaluating Results\\New folder\\images\\Cars372.png\n",
      "C:\\Users\\prave\\Desktop\\docs\\FA\\New folder\\New folder\\DMT\\Assignment 05 - Neural Networks and Evaluating Results\\New folder\\images\\Cars373.png\n",
      "C:\\Users\\prave\\Desktop\\docs\\FA\\New folder\\New folder\\DMT\\Assignment 05 - Neural Networks and Evaluating Results\\New folder\\images\\Cars374.png\n",
      "C:\\Users\\prave\\Desktop\\docs\\FA\\New folder\\New folder\\DMT\\Assignment 05 - Neural Networks and Evaluating Results\\New folder\\images\\Cars375.png\n",
      "C:\\Users\\prave\\Desktop\\docs\\FA\\New folder\\New folder\\DMT\\Assignment 05 - Neural Networks and Evaluating Results\\New folder\\images\\Cars378.png\n",
      "C:\\Users\\prave\\Desktop\\docs\\FA\\New folder\\New folder\\DMT\\Assignment 05 - Neural Networks and Evaluating Results\\New folder\\images\\Cars38.png\n",
      "C:\\Users\\prave\\Desktop\\docs\\FA\\New folder\\New folder\\DMT\\Assignment 05 - Neural Networks and Evaluating Results\\New folder\\images\\Cars380.png\n",
      "C:\\Users\\prave\\Desktop\\docs\\FA\\New folder\\New folder\\DMT\\Assignment 05 - Neural Networks and Evaluating Results\\New folder\\images\\Cars381.png\n",
      "C:\\Users\\prave\\Desktop\\docs\\FA\\New folder\\New folder\\DMT\\Assignment 05 - Neural Networks and Evaluating Results\\New folder\\images\\Cars382.png\n",
      "C:\\Users\\prave\\Desktop\\docs\\FA\\New folder\\New folder\\DMT\\Assignment 05 - Neural Networks and Evaluating Results\\New folder\\images\\Cars383.png\n",
      "C:\\Users\\prave\\Desktop\\docs\\FA\\New folder\\New folder\\DMT\\Assignment 05 - Neural Networks and Evaluating Results\\New folder\\images\\Cars384.png\n",
      "C:\\Users\\prave\\Desktop\\docs\\FA\\New folder\\New folder\\DMT\\Assignment 05 - Neural Networks and Evaluating Results\\New folder\\images\\Cars386.png\n",
      "C:\\Users\\prave\\Desktop\\docs\\FA\\New folder\\New folder\\DMT\\Assignment 05 - Neural Networks and Evaluating Results\\New folder\\images\\Cars387.png\n",
      "C:\\Users\\prave\\Desktop\\docs\\FA\\New folder\\New folder\\DMT\\Assignment 05 - Neural Networks and Evaluating Results\\New folder\\images\\Cars388.png\n",
      "C:\\Users\\prave\\Desktop\\docs\\FA\\New folder\\New folder\\DMT\\Assignment 05 - Neural Networks and Evaluating Results\\New folder\\images\\Cars39.png\n",
      "C:\\Users\\prave\\Desktop\\docs\\FA\\New folder\\New folder\\DMT\\Assignment 05 - Neural Networks and Evaluating Results\\New folder\\images\\Cars392.png\n",
      "C:\\Users\\prave\\Desktop\\docs\\FA\\New folder\\New folder\\DMT\\Assignment 05 - Neural Networks and Evaluating Results\\New folder\\images\\Cars394.png\n",
      "C:\\Users\\prave\\Desktop\\docs\\FA\\New folder\\New folder\\DMT\\Assignment 05 - Neural Networks and Evaluating Results\\New folder\\images\\Cars396.png\n",
      "C:\\Users\\prave\\Desktop\\docs\\FA\\New folder\\New folder\\DMT\\Assignment 05 - Neural Networks and Evaluating Results\\New folder\\images\\Cars4.png\n",
      "C:\\Users\\prave\\Desktop\\docs\\FA\\New folder\\New folder\\DMT\\Assignment 05 - Neural Networks and Evaluating Results\\New folder\\images\\Cars403.png\n",
      "C:\\Users\\prave\\Desktop\\docs\\FA\\New folder\\New folder\\DMT\\Assignment 05 - Neural Networks and Evaluating Results\\New folder\\images\\Cars404.png\n",
      "C:\\Users\\prave\\Desktop\\docs\\FA\\New folder\\New folder\\DMT\\Assignment 05 - Neural Networks and Evaluating Results\\New folder\\images\\Cars405.png\n",
      "C:\\Users\\prave\\Desktop\\docs\\FA\\New folder\\New folder\\DMT\\Assignment 05 - Neural Networks and Evaluating Results\\New folder\\images\\Cars407.png\n",
      "C:\\Users\\prave\\Desktop\\docs\\FA\\New folder\\New folder\\DMT\\Assignment 05 - Neural Networks and Evaluating Results\\New folder\\images\\Cars408.png\n",
      "C:\\Users\\prave\\Desktop\\docs\\FA\\New folder\\New folder\\DMT\\Assignment 05 - Neural Networks and Evaluating Results\\New folder\\images\\Cars409.png\n",
      "C:\\Users\\prave\\Desktop\\docs\\FA\\New folder\\New folder\\DMT\\Assignment 05 - Neural Networks and Evaluating Results\\New folder\\images\\Cars41.png\n",
      "C:\\Users\\prave\\Desktop\\docs\\FA\\New folder\\New folder\\DMT\\Assignment 05 - Neural Networks and Evaluating Results\\New folder\\images\\Cars410.png\n",
      "C:\\Users\\prave\\Desktop\\docs\\FA\\New folder\\New folder\\DMT\\Assignment 05 - Neural Networks and Evaluating Results\\New folder\\images\\Cars411.png\n",
      "C:\\Users\\prave\\Desktop\\docs\\FA\\New folder\\New folder\\DMT\\Assignment 05 - Neural Networks and Evaluating Results\\New folder\\images\\Cars413.png\n",
      "C:\\Users\\prave\\Desktop\\docs\\FA\\New folder\\New folder\\DMT\\Assignment 05 - Neural Networks and Evaluating Results\\New folder\\images\\Cars414.png\n",
      "C:\\Users\\prave\\Desktop\\docs\\FA\\New folder\\New folder\\DMT\\Assignment 05 - Neural Networks and Evaluating Results\\New folder\\images\\Cars415.png\n",
      "C:\\Users\\prave\\Desktop\\docs\\FA\\New folder\\New folder\\DMT\\Assignment 05 - Neural Networks and Evaluating Results\\New folder\\images\\Cars416.png\n",
      "C:\\Users\\prave\\Desktop\\docs\\FA\\New folder\\New folder\\DMT\\Assignment 05 - Neural Networks and Evaluating Results\\New folder\\images\\Cars421.png\n",
      "C:\\Users\\prave\\Desktop\\docs\\FA\\New folder\\New folder\\DMT\\Assignment 05 - Neural Networks and Evaluating Results\\New folder\\images\\Cars422.png\n",
      "C:\\Users\\prave\\Desktop\\docs\\FA\\New folder\\New folder\\DMT\\Assignment 05 - Neural Networks and Evaluating Results\\New folder\\images\\Cars423.png\n",
      "C:\\Users\\prave\\Desktop\\docs\\FA\\New folder\\New folder\\DMT\\Assignment 05 - Neural Networks and Evaluating Results\\New folder\\images\\Cars427.png\n",
      "C:\\Users\\prave\\Desktop\\docs\\FA\\New folder\\New folder\\DMT\\Assignment 05 - Neural Networks and Evaluating Results\\New folder\\images\\Cars429.png\n",
      "C:\\Users\\prave\\Desktop\\docs\\FA\\New folder\\New folder\\DMT\\Assignment 05 - Neural Networks and Evaluating Results\\New folder\\images\\Cars43.png\n",
      "C:\\Users\\prave\\Desktop\\docs\\FA\\New folder\\New folder\\DMT\\Assignment 05 - Neural Networks and Evaluating Results\\New folder\\images\\Cars430.png\n",
      "C:\\Users\\prave\\Desktop\\docs\\FA\\New folder\\New folder\\DMT\\Assignment 05 - Neural Networks and Evaluating Results\\New folder\\images\\Cars44.png\n",
      "C:\\Users\\prave\\Desktop\\docs\\FA\\New folder\\New folder\\DMT\\Assignment 05 - Neural Networks and Evaluating Results\\New folder\\images\\Cars45.png\n",
      "C:\\Users\\prave\\Desktop\\docs\\FA\\New folder\\New folder\\DMT\\Assignment 05 - Neural Networks and Evaluating Results\\New folder\\images\\Cars46.png\n",
      "C:\\Users\\prave\\Desktop\\docs\\FA\\New folder\\New folder\\DMT\\Assignment 05 - Neural Networks and Evaluating Results\\New folder\\images\\Cars47.png\n",
      "C:\\Users\\prave\\Desktop\\docs\\FA\\New folder\\New folder\\DMT\\Assignment 05 - Neural Networks and Evaluating Results\\New folder\\images\\Cars49.png\n",
      "C:\\Users\\prave\\Desktop\\docs\\FA\\New folder\\New folder\\DMT\\Assignment 05 - Neural Networks and Evaluating Results\\New folder\\images\\Cars5.png\n",
      "C:\\Users\\prave\\Desktop\\docs\\FA\\New folder\\New folder\\DMT\\Assignment 05 - Neural Networks and Evaluating Results\\New folder\\images\\Cars51.png\n",
      "C:\\Users\\prave\\Desktop\\docs\\FA\\New folder\\New folder\\DMT\\Assignment 05 - Neural Networks and Evaluating Results\\New folder\\images\\Cars53.png\n",
      "C:\\Users\\prave\\Desktop\\docs\\FA\\New folder\\New folder\\DMT\\Assignment 05 - Neural Networks and Evaluating Results\\New folder\\images\\Cars54.png\n",
      "C:\\Users\\prave\\Desktop\\docs\\FA\\New folder\\New folder\\DMT\\Assignment 05 - Neural Networks and Evaluating Results\\New folder\\images\\Cars56.png\n",
      "C:\\Users\\prave\\Desktop\\docs\\FA\\New folder\\New folder\\DMT\\Assignment 05 - Neural Networks and Evaluating Results\\New folder\\images\\Cars57.png\n",
      "C:\\Users\\prave\\Desktop\\docs\\FA\\New folder\\New folder\\DMT\\Assignment 05 - Neural Networks and Evaluating Results\\New folder\\images\\Cars58.png\n",
      "C:\\Users\\prave\\Desktop\\docs\\FA\\New folder\\New folder\\DMT\\Assignment 05 - Neural Networks and Evaluating Results\\New folder\\images\\Cars59.png\n",
      "C:\\Users\\prave\\Desktop\\docs\\FA\\New folder\\New folder\\DMT\\Assignment 05 - Neural Networks and Evaluating Results\\New folder\\images\\Cars6.png\n",
      "C:\\Users\\prave\\Desktop\\docs\\FA\\New folder\\New folder\\DMT\\Assignment 05 - Neural Networks and Evaluating Results\\New folder\\images\\Cars60.png\n",
      "C:\\Users\\prave\\Desktop\\docs\\FA\\New folder\\New folder\\DMT\\Assignment 05 - Neural Networks and Evaluating Results\\New folder\\images\\Cars61.png\n",
      "C:\\Users\\prave\\Desktop\\docs\\FA\\New folder\\New folder\\DMT\\Assignment 05 - Neural Networks and Evaluating Results\\New folder\\images\\Cars62.png\n",
      "C:\\Users\\prave\\Desktop\\docs\\FA\\New folder\\New folder\\DMT\\Assignment 05 - Neural Networks and Evaluating Results\\New folder\\images\\Cars63.png\n",
      "C:\\Users\\prave\\Desktop\\docs\\FA\\New folder\\New folder\\DMT\\Assignment 05 - Neural Networks and Evaluating Results\\New folder\\images\\Cars64.png\n",
      "C:\\Users\\prave\\Desktop\\docs\\FA\\New folder\\New folder\\DMT\\Assignment 05 - Neural Networks and Evaluating Results\\New folder\\images\\Cars65.png\n",
      "C:\\Users\\prave\\Desktop\\docs\\FA\\New folder\\New folder\\DMT\\Assignment 05 - Neural Networks and Evaluating Results\\New folder\\images\\Cars67.png\n",
      "C:\\Users\\prave\\Desktop\\docs\\FA\\New folder\\New folder\\DMT\\Assignment 05 - Neural Networks and Evaluating Results\\New folder\\images\\Cars69.png\n",
      "C:\\Users\\prave\\Desktop\\docs\\FA\\New folder\\New folder\\DMT\\Assignment 05 - Neural Networks and Evaluating Results\\New folder\\images\\Cars7.png\n",
      "C:\\Users\\prave\\Desktop\\docs\\FA\\New folder\\New folder\\DMT\\Assignment 05 - Neural Networks and Evaluating Results\\New folder\\images\\Cars70.png\n",
      "C:\\Users\\prave\\Desktop\\docs\\FA\\New folder\\New folder\\DMT\\Assignment 05 - Neural Networks and Evaluating Results\\New folder\\images\\Cars71.png\n",
      "C:\\Users\\prave\\Desktop\\docs\\FA\\New folder\\New folder\\DMT\\Assignment 05 - Neural Networks and Evaluating Results\\New folder\\images\\Cars73.png\n",
      "C:\\Users\\prave\\Desktop\\docs\\FA\\New folder\\New folder\\DMT\\Assignment 05 - Neural Networks and Evaluating Results\\New folder\\images\\Cars74.png\n",
      "C:\\Users\\prave\\Desktop\\docs\\FA\\New folder\\New folder\\DMT\\Assignment 05 - Neural Networks and Evaluating Results\\New folder\\images\\Cars75.png\n",
      "C:\\Users\\prave\\Desktop\\docs\\FA\\New folder\\New folder\\DMT\\Assignment 05 - Neural Networks and Evaluating Results\\New folder\\images\\Cars76.png\n",
      "C:\\Users\\prave\\Desktop\\docs\\FA\\New folder\\New folder\\DMT\\Assignment 05 - Neural Networks and Evaluating Results\\New folder\\images\\Cars77.png\n",
      "C:\\Users\\prave\\Desktop\\docs\\FA\\New folder\\New folder\\DMT\\Assignment 05 - Neural Networks and Evaluating Results\\New folder\\images\\Cars78.png\n",
      "C:\\Users\\prave\\Desktop\\docs\\FA\\New folder\\New folder\\DMT\\Assignment 05 - Neural Networks and Evaluating Results\\New folder\\images\\Cars79.png\n",
      "C:\\Users\\prave\\Desktop\\docs\\FA\\New folder\\New folder\\DMT\\Assignment 05 - Neural Networks and Evaluating Results\\New folder\\images\\Cars8.png\n",
      "C:\\Users\\prave\\Desktop\\docs\\FA\\New folder\\New folder\\DMT\\Assignment 05 - Neural Networks and Evaluating Results\\New folder\\images\\Cars80.png\n",
      "C:\\Users\\prave\\Desktop\\docs\\FA\\New folder\\New folder\\DMT\\Assignment 05 - Neural Networks and Evaluating Results\\New folder\\images\\Cars81.png\n",
      "C:\\Users\\prave\\Desktop\\docs\\FA\\New folder\\New folder\\DMT\\Assignment 05 - Neural Networks and Evaluating Results\\New folder\\images\\Cars82.png\n",
      "C:\\Users\\prave\\Desktop\\docs\\FA\\New folder\\New folder\\DMT\\Assignment 05 - Neural Networks and Evaluating Results\\New folder\\images\\Cars83.png\n",
      "C:\\Users\\prave\\Desktop\\docs\\FA\\New folder\\New folder\\DMT\\Assignment 05 - Neural Networks and Evaluating Results\\New folder\\images\\Cars85.png\n",
      "C:\\Users\\prave\\Desktop\\docs\\FA\\New folder\\New folder\\DMT\\Assignment 05 - Neural Networks and Evaluating Results\\New folder\\images\\Cars86.png\n",
      "C:\\Users\\prave\\Desktop\\docs\\FA\\New folder\\New folder\\DMT\\Assignment 05 - Neural Networks and Evaluating Results\\New folder\\images\\Cars87.png\n",
      "C:\\Users\\prave\\Desktop\\docs\\FA\\New folder\\New folder\\DMT\\Assignment 05 - Neural Networks and Evaluating Results\\New folder\\images\\Cars88.png\n",
      "C:\\Users\\prave\\Desktop\\docs\\FA\\New folder\\New folder\\DMT\\Assignment 05 - Neural Networks and Evaluating Results\\New folder\\images\\Cars89.png\n",
      "C:\\Users\\prave\\Desktop\\docs\\FA\\New folder\\New folder\\DMT\\Assignment 05 - Neural Networks and Evaluating Results\\New folder\\images\\Cars9.png\n",
      "C:\\Users\\prave\\Desktop\\docs\\FA\\New folder\\New folder\\DMT\\Assignment 05 - Neural Networks and Evaluating Results\\New folder\\images\\Cars90.png\n",
      "C:\\Users\\prave\\Desktop\\docs\\FA\\New folder\\New folder\\DMT\\Assignment 05 - Neural Networks and Evaluating Results\\New folder\\images\\Cars92.png\n",
      "C:\\Users\\prave\\Desktop\\docs\\FA\\New folder\\New folder\\DMT\\Assignment 05 - Neural Networks and Evaluating Results\\New folder\\images\\Cars93.png\n",
      "C:\\Users\\prave\\Desktop\\docs\\FA\\New folder\\New folder\\DMT\\Assignment 05 - Neural Networks and Evaluating Results\\New folder\\images\\Cars94.png\n",
      "C:\\Users\\prave\\Desktop\\docs\\FA\\New folder\\New folder\\DMT\\Assignment 05 - Neural Networks and Evaluating Results\\New folder\\images\\Cars97.png\n",
      "C:\\Users\\prave\\Desktop\\docs\\FA\\New folder\\New folder\\DMT\\Assignment 05 - Neural Networks and Evaluating Results\\New folder\\images\\Cars98.png\n",
      "C:\\Users\\prave\\Desktop\\docs\\FA\\New folder\\New folder\\DMT\\Assignment 05 - Neural Networks and Evaluating Results\\New folder\\images\\Cars99.png\n"
     ]
    }
   ],
   "source": [
    "for dirName, _, fileNames in os.walk(r'C:\\Users\\prave\\Desktop\\docs\\FA\\New folder\\New folder\\DMT\\Assignment 05 - Neural Networks and Evaluating Results\\New folder\\images'):\n",
    "    for fileName in fileNames:\n",
    "        print(os.path.join(dirName, fileName))"
   ]
  },
  {
   "cell_type": "code",
   "execution_count": 104,
   "id": "61c58337",
   "metadata": {},
   "outputs": [],
   "source": [
    "IMAGE_SIZE = 200\n",
    "\n",
    "img_dir = r\"C:\\Users\\prave\\Desktop\\docs\\FA\\New folder\\New folder\\DMT\\Assignment 05 - Neural Networks and Evaluating Results\\New folder\\images\"\n",
    "data_path = os.path.join(img_dir,'*g')\n",
    "\n",
    "files = glob.glob(data_path)\n",
    "files.sort()\n",
    "\n",
    "X=[]\n",
    "for f1 in files:\n",
    "    img = cv2.imread(f1)\n",
    "    img = cv2.resize(img, (IMAGE_SIZE,IMAGE_SIZE))\n",
    "    X.append(np.array(img))"
   ]
  },
  {
   "cell_type": "code",
   "execution_count": 105,
   "id": "7c4220f2",
   "metadata": {},
   "outputs": [],
   "source": [
    "# from PIL import Image\n",
    "# from numpy import asarray\n",
    "\n",
    "# IMAGE_SIZE = 200\n",
    "\n",
    "# img_dir = r\"C:\\Users\\prave\\Desktop\\docs\\FA\\New folder\\New folder\\DMT\\Assignment 05 - Neural Networks and Evaluating Results\\New folder\\images\"\n",
    "# data_path = os.path.join(img_dir,'*g')\n",
    "\n",
    "# files = glob.glob(data_path)\n",
    "# files.sort()\n",
    "\n",
    "# X=[]\n",
    "# #for f1 in files:\n",
    "#  #   print(f1)\n",
    "# for i in range(0, 433, 1):\n",
    "#     #img = cv2.imread(f1)\n",
    "#     img = cv2.imread(img_dir+'\\Cars'+str(i)+'.png')\n",
    "#     img = cv2.resize(img, (200,200))\n",
    "#     X.append(np.array(img))\n",
    "#     #X.append(asarray(img))"
   ]
  },
  {
   "cell_type": "markdown",
   "id": "72b25194",
   "metadata": {},
   "source": [
    "X contains 299 images"
   ]
  },
  {
   "cell_type": "code",
   "execution_count": 106,
   "id": "c7dc214e",
   "metadata": {},
   "outputs": [
    {
     "data": {
      "text/plain": [
       "(299, 200, 200, 3)"
      ]
     },
     "execution_count": 106,
     "metadata": {},
     "output_type": "execute_result"
    }
   ],
   "source": [
    "np.array(X).shape"
   ]
  },
  {
   "cell_type": "code",
   "execution_count": 107,
   "id": "89ac8c5c",
   "metadata": {},
   "outputs": [],
   "source": [
    "y = data[['US Car?']]"
   ]
  },
  {
   "cell_type": "code",
   "execution_count": 108,
   "id": "a969d25c",
   "metadata": {},
   "outputs": [
    {
     "data": {
      "text/plain": [
       "(299, 1)"
      ]
     },
     "execution_count": 108,
     "metadata": {},
     "output_type": "execute_result"
    }
   ],
   "source": [
    "y.shape"
   ]
  },
  {
   "cell_type": "markdown",
   "id": "288d92d6",
   "metadata": {},
   "source": [
    "Train test 8020 split"
   ]
  },
  {
   "cell_type": "code",
   "execution_count": 109,
   "id": "c7623be9",
   "metadata": {},
   "outputs": [
    {
     "data": {
      "text/plain": [
       "(239, 200, 200, 3)"
      ]
     },
     "execution_count": 109,
     "metadata": {},
     "output_type": "execute_result"
    }
   ],
   "source": [
    "X_train = X[0:239]\n",
    "#X_test = X[348:,:]\n",
    "np.array(X_train).shape"
   ]
  },
  {
   "cell_type": "code",
   "execution_count": 110,
   "id": "9a82eca7",
   "metadata": {},
   "outputs": [
    {
     "data": {
      "text/plain": [
       "(59, 200, 200, 3)"
      ]
     },
     "execution_count": 110,
     "metadata": {},
     "output_type": "execute_result"
    }
   ],
   "source": [
    "X_test = X[240:]\n",
    "np.array(X_test).shape"
   ]
  },
  {
   "cell_type": "code",
   "execution_count": 111,
   "id": "857efc7f",
   "metadata": {},
   "outputs": [
    {
     "data": {
      "text/plain": [
       "(239, 1)"
      ]
     },
     "execution_count": 111,
     "metadata": {},
     "output_type": "execute_result"
    }
   ],
   "source": [
    "y_train = y[0:239]\n",
    "#X_test = X[348:,:]\n",
    "np.array(y_train).shape"
   ]
  },
  {
   "cell_type": "code",
   "execution_count": 112,
   "id": "d13b2d3c",
   "metadata": {},
   "outputs": [
    {
     "data": {
      "text/plain": [
       "(59, 1)"
      ]
     },
     "execution_count": 112,
     "metadata": {},
     "output_type": "execute_result"
    }
   ],
   "source": [
    "y_test = y[240:]\n",
    "#X_test = X[348:,:]\n",
    "np.array(y_test).shape"
   ]
  },
  {
   "cell_type": "code",
   "execution_count": 113,
   "id": "95abfbeb",
   "metadata": {},
   "outputs": [],
   "source": [
    "# from sklearn.model_selection import train_test_split\n",
    "\n",
    "# X_train, X_test, y_train, y_test = train_test_split(X, y, test_size=0.2, random_state=42)\n",
    "# X_train, X_val, y_train, y_val = train_test_split(X_train, y_train, test_size=0.125, random_state=1)\n"
   ]
  },
  {
   "cell_type": "code",
   "execution_count": 114,
   "id": "1dbacdfa",
   "metadata": {},
   "outputs": [
    {
     "data": {
      "text/plain": [
       "(239, 200, 200, 3)"
      ]
     },
     "execution_count": 114,
     "metadata": {},
     "output_type": "execute_result"
    }
   ],
   "source": [
    "np.array(X_train).shape"
   ]
  },
  {
   "cell_type": "code",
   "execution_count": 115,
   "id": "dc4ab6c4",
   "metadata": {},
   "outputs": [
    {
     "data": {
      "text/plain": [
       "(239, 1)"
      ]
     },
     "execution_count": 115,
     "metadata": {},
     "output_type": "execute_result"
    }
   ],
   "source": [
    "np.array(y_train).shape"
   ]
  },
  {
   "cell_type": "code",
   "execution_count": 116,
   "id": "09335000",
   "metadata": {},
   "outputs": [
    {
     "data": {
      "text/plain": [
       "(59, 200, 200, 3)"
      ]
     },
     "execution_count": 116,
     "metadata": {},
     "output_type": "execute_result"
    }
   ],
   "source": [
    "np.array(X_test).shape"
   ]
  },
  {
   "cell_type": "code",
   "execution_count": 117,
   "id": "b2c2ed83",
   "metadata": {},
   "outputs": [
    {
     "data": {
      "text/plain": [
       "(59, 1)"
      ]
     },
     "execution_count": 117,
     "metadata": {},
     "output_type": "execute_result"
    }
   ],
   "source": [
    "np.array(y_test).shape"
   ]
  },
  {
   "cell_type": "code",
   "execution_count": 118,
   "id": "cc665262",
   "metadata": {},
   "outputs": [
    {
     "data": {
      "text/plain": [
       "239"
      ]
     },
     "execution_count": 118,
     "metadata": {},
     "output_type": "execute_result"
    }
   ],
   "source": [
    "np.array(X_train).shape[0]"
   ]
  },
  {
   "cell_type": "markdown",
   "id": "e6d25dba",
   "metadata": {},
   "source": [
    "Convert the four dimentional image data into two dimensions"
   ]
  },
  {
   "cell_type": "code",
   "execution_count": 119,
   "id": "95ebfef0",
   "metadata": {},
   "outputs": [],
   "source": [
    "X_train1 = np.array(X_train).reshape(np.array(X_train).shape[0],200*200*3)\n",
    "X_test1 = np.array(X_test).reshape(np.array(X_test).shape[0],200*200*3)"
   ]
  },
  {
   "cell_type": "markdown",
   "id": "75518362",
   "metadata": {},
   "source": [
    "FIT THE DECISION TREE"
   ]
  },
  {
   "cell_type": "markdown",
   "id": "1707f6dc",
   "metadata": {},
   "source": [
    "-----------------------"
   ]
  },
  {
   "cell_type": "code",
   "execution_count": 120,
   "id": "c5e2105b",
   "metadata": {},
   "outputs": [
    {
     "data": {
      "text/plain": [
       "DecisionTreeClassifier(random_state=0)"
      ]
     },
     "execution_count": 120,
     "metadata": {},
     "output_type": "execute_result"
    }
   ],
   "source": [
    "from sklearn import tree\n",
    "\n",
    "# Building Decision Tree model \n",
    "dtc = tree.DecisionTreeClassifier(random_state=0)\n",
    "dtc.fit(X_train1, y_train)"
   ]
  },
  {
   "cell_type": "code",
   "execution_count": 121,
   "id": "1967e6f0",
   "metadata": {},
   "outputs": [],
   "source": [
    "X1 = np.array(X).reshape(np.array(X).shape[0],200*200*3)"
   ]
  },
  {
   "cell_type": "code",
   "execution_count": 122,
   "id": "e76f4c6f",
   "metadata": {},
   "outputs": [
    {
     "data": {
      "text/plain": [
       "(299, 120000)"
      ]
     },
     "execution_count": 122,
     "metadata": {},
     "output_type": "execute_result"
    }
   ],
   "source": [
    "X1.shape"
   ]
  },
  {
   "cell_type": "code",
   "execution_count": 123,
   "id": "a34b8d0f",
   "metadata": {},
   "outputs": [],
   "source": [
    "pred = dtc.predict(X_test1)"
   ]
  },
  {
   "cell_type": "code",
   "execution_count": 124,
   "id": "4af05c7e",
   "metadata": {},
   "outputs": [
    {
     "name": "stdout",
     "output_type": "stream",
     "text": [
      "Error rate 0.38983050847457623\n"
     ]
    }
   ],
   "source": [
    "from sklearn.metrics import accuracy_score\n",
    "\n",
    "error_rate = 1 - accuracy_score(pred,y_test)\n",
    "print('Error rate',error_rate)"
   ]
  },
  {
   "cell_type": "markdown",
   "id": "fedbcd01",
   "metadata": {},
   "source": [
    "Display prediction"
   ]
  },
  {
   "cell_type": "code",
   "execution_count": 125,
   "id": "be7171c8",
   "metadata": {},
   "outputs": [],
   "source": [
    "import pandas as pd\n",
    "#datat = pd.DataFrame(FileName)\n",
    "#datat1 = data['FileName']\n",
    "#plate_prediction = []\n",
    "#plate_prediction.append(dtc.predict(X))\n",
    "data['plate_prediction'] = dtc.predict(X1)\n",
    "data['plate_prediction'] = data['plate_prediction'].apply(lambda x: 'US' if x==1 else 'no')\n",
    "#df_bank.to_csv('deposit_prediction.csv', index=False)\n",
    "#plate_prediction.apply(lambda x: 'US' if x==1 else 'no')\n",
    "#datatest12 = pd.DataFrame(plate_prediction)\n"
   ]
  },
  {
   "cell_type": "code",
   "execution_count": 126,
   "id": "d2acae9f",
   "metadata": {},
   "outputs": [
    {
     "data": {
      "text/html": [
       "<div>\n",
       "<style scoped>\n",
       "    .dataframe tbody tr th:only-of-type {\n",
       "        vertical-align: middle;\n",
       "    }\n",
       "\n",
       "    .dataframe tbody tr th {\n",
       "        vertical-align: top;\n",
       "    }\n",
       "\n",
       "    .dataframe thead th {\n",
       "        text-align: right;\n",
       "    }\n",
       "</style>\n",
       "<table border=\"1\" class=\"dataframe\">\n",
       "  <thead>\n",
       "    <tr style=\"text-align: right;\">\n",
       "      <th></th>\n",
       "      <th>FileName</th>\n",
       "      <th>US Car?</th>\n",
       "      <th>plate_prediction</th>\n",
       "    </tr>\n",
       "  </thead>\n",
       "  <tbody>\n",
       "    <tr>\n",
       "      <th>0</th>\n",
       "      <td>0</td>\n",
       "      <td>0</td>\n",
       "      <td>no</td>\n",
       "    </tr>\n",
       "    <tr>\n",
       "      <th>1</th>\n",
       "      <td>1</td>\n",
       "      <td>0</td>\n",
       "      <td>no</td>\n",
       "    </tr>\n",
       "    <tr>\n",
       "      <th>2</th>\n",
       "      <td>87</td>\n",
       "      <td>1</td>\n",
       "      <td>US</td>\n",
       "    </tr>\n",
       "    <tr>\n",
       "      <th>3</th>\n",
       "      <td>162</td>\n",
       "      <td>0</td>\n",
       "      <td>no</td>\n",
       "    </tr>\n",
       "    <tr>\n",
       "      <th>4</th>\n",
       "      <td>228</td>\n",
       "      <td>0</td>\n",
       "      <td>no</td>\n",
       "    </tr>\n",
       "    <tr>\n",
       "      <th>...</th>\n",
       "      <td>...</td>\n",
       "      <td>...</td>\n",
       "      <td>...</td>\n",
       "    </tr>\n",
       "    <tr>\n",
       "      <th>294</th>\n",
       "      <td>243</td>\n",
       "      <td>0</td>\n",
       "      <td>US</td>\n",
       "    </tr>\n",
       "    <tr>\n",
       "      <th>295</th>\n",
       "      <td>244</td>\n",
       "      <td>0</td>\n",
       "      <td>US</td>\n",
       "    </tr>\n",
       "    <tr>\n",
       "      <th>296</th>\n",
       "      <td>245</td>\n",
       "      <td>0</td>\n",
       "      <td>no</td>\n",
       "    </tr>\n",
       "    <tr>\n",
       "      <th>297</th>\n",
       "      <td>246</td>\n",
       "      <td>0</td>\n",
       "      <td>no</td>\n",
       "    </tr>\n",
       "    <tr>\n",
       "      <th>298</th>\n",
       "      <td>248</td>\n",
       "      <td>0</td>\n",
       "      <td>no</td>\n",
       "    </tr>\n",
       "  </tbody>\n",
       "</table>\n",
       "<p>299 rows × 3 columns</p>\n",
       "</div>"
      ],
      "text/plain": [
       "     FileName  US Car? plate_prediction\n",
       "0           0        0               no\n",
       "1           1        0               no\n",
       "2          87        1               US\n",
       "3         162        0               no\n",
       "4         228        0               no\n",
       "..        ...      ...              ...\n",
       "294       243        0               US\n",
       "295       244        0               US\n",
       "296       245        0               no\n",
       "297       246        0               no\n",
       "298       248        0               no\n",
       "\n",
       "[299 rows x 3 columns]"
      ]
     },
     "execution_count": 126,
     "metadata": {},
     "output_type": "execute_result"
    }
   ],
   "source": [
    "data"
   ]
  },
  {
   "cell_type": "markdown",
   "id": "be94ebee",
   "metadata": {},
   "source": [
    "Fit SVM"
   ]
  },
  {
   "cell_type": "markdown",
   "id": "a074ef06",
   "metadata": {},
   "source": [
    "--------------"
   ]
  },
  {
   "cell_type": "code",
   "execution_count": 127,
   "id": "d6f2e0ae",
   "metadata": {},
   "outputs": [
    {
     "name": "stderr",
     "output_type": "stream",
     "text": [
      "E:\\AnacondaNavigator\\lib\\site-packages\\sklearn\\utils\\validation.py:63: DataConversionWarning: A column-vector y was passed when a 1d array was expected. Please change the shape of y to (n_samples, ), for example using ravel().\n",
      "  return f(*args, **kwargs)\n"
     ]
    },
    {
     "data": {
      "text/plain": [
       "SVC(gamma=0.001)"
      ]
     },
     "execution_count": 127,
     "metadata": {},
     "output_type": "execute_result"
    }
   ],
   "source": [
    "from sklearn import svm\n",
    "# Create a classifier: a support vector classifier\n",
    "classifier = svm.SVC(gamma=0.001)\n",
    "#fit to the trainin data\n",
    "classifier.fit(X_train1,y_train)"
   ]
  },
  {
   "cell_type": "code",
   "execution_count": 128,
   "id": "ceca37d7",
   "metadata": {},
   "outputs": [],
   "source": [
    "pred = classifier.predict(X_test1)"
   ]
  },
  {
   "cell_type": "code",
   "execution_count": 129,
   "id": "4a8338fc",
   "metadata": {},
   "outputs": [
    {
     "name": "stdout",
     "output_type": "stream",
     "text": [
      "Error rate 0.2033898305084746\n"
     ]
    }
   ],
   "source": [
    "from sklearn.metrics import accuracy_score\n",
    "\n",
    "error_rate = 1 - accuracy_score(pred,y_test)\n",
    "print('Error rate',error_rate)"
   ]
  },
  {
   "cell_type": "markdown",
   "id": "f400de9a",
   "metadata": {},
   "source": [
    "Display prediction"
   ]
  },
  {
   "cell_type": "code",
   "execution_count": 130,
   "id": "5aa92e62",
   "metadata": {},
   "outputs": [],
   "source": [
    "import pandas as pd\n",
    "#datat = pd.DataFrame(FileName)\n",
    "#datat1 = data['FileName']\n",
    "#plate_prediction = []\n",
    "#plate_prediction.append(dtc.predict(X))\n",
    "data['plate_prediction'] = classifier.predict(X1)\n",
    "data['plate_prediction'] = data['plate_prediction'].apply(lambda x: 'US' if x==1 else 'no')\n",
    "#df_bank.to_csv('deposit_prediction.csv', index=False)\n",
    "#plate_prediction.apply(lambda x: 'US' if x==1 else 'no')\n",
    "#datatest12 = pd.DataFrame(plate_prediction)"
   ]
  },
  {
   "cell_type": "code",
   "execution_count": 131,
   "id": "b2d2e9f5",
   "metadata": {},
   "outputs": [
    {
     "data": {
      "text/html": [
       "<div>\n",
       "<style scoped>\n",
       "    .dataframe tbody tr th:only-of-type {\n",
       "        vertical-align: middle;\n",
       "    }\n",
       "\n",
       "    .dataframe tbody tr th {\n",
       "        vertical-align: top;\n",
       "    }\n",
       "\n",
       "    .dataframe thead th {\n",
       "        text-align: right;\n",
       "    }\n",
       "</style>\n",
       "<table border=\"1\" class=\"dataframe\">\n",
       "  <thead>\n",
       "    <tr style=\"text-align: right;\">\n",
       "      <th></th>\n",
       "      <th>FileName</th>\n",
       "      <th>US Car?</th>\n",
       "      <th>plate_prediction</th>\n",
       "    </tr>\n",
       "  </thead>\n",
       "  <tbody>\n",
       "    <tr>\n",
       "      <th>0</th>\n",
       "      <td>0</td>\n",
       "      <td>0</td>\n",
       "      <td>no</td>\n",
       "    </tr>\n",
       "    <tr>\n",
       "      <th>1</th>\n",
       "      <td>1</td>\n",
       "      <td>0</td>\n",
       "      <td>no</td>\n",
       "    </tr>\n",
       "    <tr>\n",
       "      <th>2</th>\n",
       "      <td>87</td>\n",
       "      <td>1</td>\n",
       "      <td>US</td>\n",
       "    </tr>\n",
       "    <tr>\n",
       "      <th>3</th>\n",
       "      <td>162</td>\n",
       "      <td>0</td>\n",
       "      <td>no</td>\n",
       "    </tr>\n",
       "    <tr>\n",
       "      <th>4</th>\n",
       "      <td>228</td>\n",
       "      <td>0</td>\n",
       "      <td>no</td>\n",
       "    </tr>\n",
       "    <tr>\n",
       "      <th>...</th>\n",
       "      <td>...</td>\n",
       "      <td>...</td>\n",
       "      <td>...</td>\n",
       "    </tr>\n",
       "    <tr>\n",
       "      <th>294</th>\n",
       "      <td>243</td>\n",
       "      <td>0</td>\n",
       "      <td>no</td>\n",
       "    </tr>\n",
       "    <tr>\n",
       "      <th>295</th>\n",
       "      <td>244</td>\n",
       "      <td>0</td>\n",
       "      <td>no</td>\n",
       "    </tr>\n",
       "    <tr>\n",
       "      <th>296</th>\n",
       "      <td>245</td>\n",
       "      <td>0</td>\n",
       "      <td>no</td>\n",
       "    </tr>\n",
       "    <tr>\n",
       "      <th>297</th>\n",
       "      <td>246</td>\n",
       "      <td>0</td>\n",
       "      <td>no</td>\n",
       "    </tr>\n",
       "    <tr>\n",
       "      <th>298</th>\n",
       "      <td>248</td>\n",
       "      <td>0</td>\n",
       "      <td>no</td>\n",
       "    </tr>\n",
       "  </tbody>\n",
       "</table>\n",
       "<p>299 rows × 3 columns</p>\n",
       "</div>"
      ],
      "text/plain": [
       "     FileName  US Car? plate_prediction\n",
       "0           0        0               no\n",
       "1           1        0               no\n",
       "2          87        1               US\n",
       "3         162        0               no\n",
       "4         228        0               no\n",
       "..        ...      ...              ...\n",
       "294       243        0               no\n",
       "295       244        0               no\n",
       "296       245        0               no\n",
       "297       246        0               no\n",
       "298       248        0               no\n",
       "\n",
       "[299 rows x 3 columns]"
      ]
     },
     "execution_count": 131,
     "metadata": {},
     "output_type": "execute_result"
    }
   ],
   "source": [
    "data"
   ]
  },
  {
   "cell_type": "code",
   "execution_count": null,
   "id": "d694a1f5",
   "metadata": {},
   "outputs": [],
   "source": []
  }
 ],
 "metadata": {
  "kernelspec": {
   "display_name": "Python 3 (ipykernel)",
   "language": "python",
   "name": "python3"
  },
  "language_info": {
   "codemirror_mode": {
    "name": "ipython",
    "version": 3
   },
   "file_extension": ".py",
   "mimetype": "text/x-python",
   "name": "python",
   "nbconvert_exporter": "python",
   "pygments_lexer": "ipython3",
   "version": "3.9.7"
  }
 },
 "nbformat": 4,
 "nbformat_minor": 5
}
